{
 "cells": [
  {
   "cell_type": "code",
   "execution_count": 14,
   "id": "711be327",
   "metadata": {},
   "outputs": [],
   "source": [
    "#data manipuplation \n",
    "import numpy as np\n",
    "import pandas as pd\n",
    "\n",
    "#data viz \n",
    "import matplotlib.pyplot as plt \n",
    "import seaborn as sns \n",
    "\n",
    "%matplotlib inline\n",
    "\n",
    "import sklearn.linear_model as linear_model\n",
    "#imported to make linear model \n",
    "\n",
    "import statsmodels.api as sm\n",
    "#need this for stats models "
   ]
  },
  {
   "cell_type": "code",
   "execution_count": 4,
   "id": "384b8db2",
   "metadata": {
    "scrolled": true
   },
   "outputs": [],
   "source": [
    "df = pd.read_csv('airline_costs.csv')"
   ]
  },
  {
   "cell_type": "code",
   "execution_count": 5,
   "id": "f00aa2f6",
   "metadata": {},
   "outputs": [],
   "source": [
    "data = df"
   ]
  },
  {
   "cell_type": "code",
   "execution_count": 6,
   "id": "4886c401",
   "metadata": {},
   "outputs": [
    {
     "name": "stdout",
     "output_type": "stream",
     "text": [
      "          Airline  Length of flight (miles)  Speed of plane (miles per hour)  \\\n",
      "0        American                       270                              216   \n",
      "1         Bonanza                       100                              140   \n",
      "2         Braniff                       176                              182   \n",
      "3         Capital                       142                              167   \n",
      "4         Central                        51                              134   \n",
      "5             C&S                       175                              175   \n",
      "6        Colonial                       112                              150   \n",
      "7     Continental                       131                              179   \n",
      "8           Delta                       174                              191   \n",
      "9         Eastern                       182                              187   \n",
      "10         Empire                        59                              143   \n",
      "11       Frontier                        81                              141   \n",
      "12   Lake Central                        73                              142   \n",
      "13  Mid-Continent                       144                              167   \n",
      "14         Mohawk                        79                              137   \n",
      "15       National                       199                              207   \n",
      "16      Northeast                        94                              150   \n",
      "17      Northwest                       271                              202   \n",
      "18       Piedmont                        90                              153   \n",
      "19        Pioneer                        89                              150   \n",
      "20       Southern                        67                              147   \n",
      "21      Southwest                        54                              127   \n",
      "22    Trans-Texas                        78                              147   \n",
      "23            TWA                       293                              193   \n",
      "24         United                       270                              207   \n",
      "25     West Coast                        58                              135   \n",
      "26        Western                       172                              181   \n",
      "27         Inland                       147                              158   \n",
      "28        Wiggins                        45                              116   \n",
      "29      Wisconsin                        69                              142   \n",
      "\n",
      "    Daily flight time per plane (hours)  Population served (1000s)  \\\n",
      "0                                  6.93                      56928   \n",
      "1                                  4.45                        183   \n",
      "2                                  6.60                      11869   \n",
      "3                                  7.47                      41097   \n",
      "4                                  4.67                       1757   \n",
      "5                                  8.60                      18000   \n",
      "6                                  6.87                      13500   \n",
      "7                                  6.50                       3831   \n",
      "8                                  7.60                      13119   \n",
      "9                                  9.50                      44000   \n",
      "10                                 4.83                        451   \n",
      "11                                 7.47                       2500   \n",
      "12                                 3.85                       5405   \n",
      "13                                 6.20                       6725   \n",
      "14                                 5.88                       9250   \n",
      "15                                 8.28                      23431   \n",
      "16                                 6.77                      16000   \n",
      "17                                 6.88                      27000   \n",
      "18                                 8.13                       3362   \n",
      "19                                 7.05                       2050   \n",
      "20                                 6.15                       2337   \n",
      "21                                 5.85                       5143   \n",
      "22                                 6.08                       2600   \n",
      "23                                 6.40                      51500   \n",
      "24                                 6.63                      48913   \n",
      "25                                 4.50                       1850   \n",
      "26                                 6.67                       6250   \n",
      "27                                 9.38                       1000   \n",
      "28                                 2.35                       2500   \n",
      "29                                 5.72                       6500   \n",
      "\n",
      "    Total operating cost (cents per revenue ton-mile)  \\\n",
      "0                                                43.0   \n",
      "1                                               141.5   \n",
      "2                                                50.6   \n",
      "3                                                51.0   \n",
      "4                                               318.5   \n",
      "5                                                59.2   \n",
      "6                                                77.0   \n",
      "7                                                62.3   \n",
      "8                                                45.3   \n",
      "9                                                42.6   \n",
      "10                                              112.4   \n",
      "11                                              125.2   \n",
      "12                                              169.3   \n",
      "13                                               64.8   \n",
      "14                                              100.5   \n",
      "15                                               42.9   \n",
      "16                                               81.1   \n",
      "17                                               56.7   \n",
      "18                                               75.4   \n",
      "19                                               71.3   \n",
      "20                                              150.1   \n",
      "21                                               78.9   \n",
      "22                                              130.3   \n",
      "23                                               46.2   \n",
      "24                                               42.3   \n",
      "25                                              103.3   \n",
      "26                                               44.2   \n",
      "27                                               64.7   \n",
      "28                                              820.9   \n",
      "29                                              130.9   \n",
      "\n",
      "    Revenue tons per aircraft mile  Ton-mile load factor (proportion)  \\\n",
      "0                             3.98                              0.689   \n",
      "1                             0.79                              0.358   \n",
      "2                             2.57                              0.557   \n",
      "3                             2.68                              0.510   \n",
      "4                             0.35                              0.167   \n",
      "5                             2.17                              0.558   \n",
      "6                             1.68                              0.505   \n",
      "7                             1.70                              0.537   \n",
      "8                             2.74                              0.598   \n",
      "9                             3.07                              0.528   \n",
      "10                            0.69                              0.313   \n",
      "11                            0.72                              0.398   \n",
      "12                            0.48                              0.212   \n",
      "13                            1.53                              0.565   \n",
      "14                            1.02                              0.476   \n",
      "15                            3.12                              0.567   \n",
      "16                            1.19                              0.597   \n",
      "17                            4.30                              0.570   \n",
      "18                            1.08                              0.449   \n",
      "19                            1.16                              0.483   \n",
      "20                            0.60                              0.317   \n",
      "21                            1.18                              0.491   \n",
      "22                            0.65                              0.372   \n",
      "23                            3.62                              0.670   \n",
      "24                            3.75                              0.630   \n",
      "25                            0.82                              0.421   \n",
      "26                            2.68                              0.656   \n",
      "27                            1.54                              0.575   \n",
      "28                            0.07                              0.166   \n",
      "29                            0.81                              0.430   \n",
      "\n",
      "    Available capacity (tons per mile)  Total assets ($100,000s)  \\\n",
      "0                                5.776                   1436.53   \n",
      "1                                2.207                      6.65   \n",
      "2                                4.614                    160.30   \n",
      "3                                5.255                    195.02   \n",
      "4                                2.096                     14.02   \n",
      "5                                3.889                    114.16   \n",
      "6                                3.327                     35.34   \n",
      "7                                3.166                     49.74   \n",
      "8                                4.582                    174.32   \n",
      "9                                5.814                   1042.58   \n",
      "10                               2.204                      4.71   \n",
      "11                               1.809                     17.66   \n",
      "12                               2.264                      6.32   \n",
      "13                               2.708                     76.12   \n",
      "14                               2.143                     14.54   \n",
      "15                               5.503                    181.27   \n",
      "16                               1.988                     49.38   \n",
      "17                               7.544                    471.50   \n",
      "18                               2.405                     21.60   \n",
      "19                               2.402                     19.11   \n",
      "20                               1.893                     12.44   \n",
      "21                               2.403                     16.06   \n",
      "22                               1.747                     11.10   \n",
      "23                               5.403                   1217.98   \n",
      "24                               5.952                   1127.25   \n",
      "25                               1.948                     10.98   \n",
      "26                               4.085                    137.39   \n",
      "27                               2.678                     16.61   \n",
      "28                               0.422                      2.03   \n",
      "29                               1.884                     10.80   \n",
      "\n",
      "    Investments and special funds ($100,000s)  Adjusted assets ($100,000s)  \n",
      "0                                      165.22                      1271.31  \n",
      "1                                        0.01                         6.64  \n",
      "2                                        5.81                       154.49  \n",
      "3                                        6.06                       188.96  \n",
      "4                                        0.01                        14.01  \n",
      "5                                        3.11                       111.05  \n",
      "6                                        0.79                        34.55  \n",
      "7                                        3.49                        46.25  \n",
      "8                                        3.87                       170.45  \n",
      "9                                      187.84                       854.74  \n",
      "10                                       0.02                         4.69  \n",
      "11                                       0.12                        17.54  \n",
      "12                                       0.01                         6.31  \n",
      "13                                       2.44                        73.68  \n",
      "14                                       0.09                        14.45  \n",
      "15                                      16.14                       165.13  \n",
      "16                                       2.11                        47.27  \n",
      "17                                       7.98                       463.52  \n",
      "18                                       3.10                        18.50  \n",
      "19                                       0.01                        19.10  \n",
      "20                                       0.01                        12.43  \n",
      "21                                       0.08                        15.98  \n",
      "22                                       0.42                        10.68  \n",
      "23                                     120.07                      1097.91  \n",
      "24                                      79.98                      1047.27  \n",
      "25                                       0.01                        10.97  \n",
      "26                                      17.02                       120.37  \n",
      "27                                       0.03                        16.58  \n",
      "28                                       0.62                         1.41  \n",
      "29                                       0.01                        10.79  \n"
     ]
    }
   ],
   "source": [
    "data.columns = ['Airline',\n",
    "                'Length of flight (miles)',\n",
    "                'Speed of plane (miles per hour)', \n",
    "                'Daily flight time per plane (hours)',\n",
    "                'Population served (1000s)',\n",
    "                'Total operating cost (cents per revenue ton-mile)',\n",
    "                'Revenue tons per aircraft mile',\n",
    "                'Ton-mile load factor (proportion)',\n",
    "                'Available capacity (tons per mile)',\n",
    "                'Total assets ($100,000s)',\n",
    "                'Investments and special funds ($100,000s)',\n",
    "                'Adjusted assets ($100,000s)']\n",
    "print(data)\n",
    "# did this to eaisly view data and how I was taught to view columns from Udemy "
   ]
  },
  {
   "cell_type": "code",
   "execution_count": 8,
   "id": "be9801fb",
   "metadata": {},
   "outputs": [],
   "source": [
    "#Problem 1\n",
    "X = data[['Length of flight (miles)','Daily flight time per plane (hours)']]\n",
    "y = data ['Population served (1000s)']\n",
    "#starting to work on problem one and my variables "
   ]
  },
  {
   "cell_type": "code",
   "execution_count": 11,
   "id": "e270a655",
   "metadata": {},
   "outputs": [
    {
     "name": "stdout",
     "output_type": "stream",
     "text": [
      "Intercept: \n",
      " -8926.320926729342\n",
      "Coefficients: \n",
      " [ 193.6985949 -346.4446056]\n"
     ]
    }
   ],
   "source": [
    "regr = linear_model.LinearRegression()\n",
    "regr.fit(X, y)\n",
    "print('Intercept: \\n', regr.intercept_)\n",
    "print('Coefficients: \\n', regr.coef_)"
   ]
  },
  {
   "cell_type": "code",
   "execution_count": 15,
   "id": "2d12d9ad",
   "metadata": {},
   "outputs": [
    {
     "name": "stdout",
     "output_type": "stream",
     "text": [
      "                                OLS Regression Results                               \n",
      "=====================================================================================\n",
      "Dep. Variable:     Population served (1000s)   R-squared:                       0.665\n",
      "Model:                                   OLS   Adj. R-squared:                  0.640\n",
      "Method:                        Least Squares   F-statistic:                     26.81\n",
      "Date:                       Sat, 14 Jan 2023   Prob (F-statistic):           3.86e-07\n",
      "Time:                               16:30:50   Log-Likelihood:                -318.02\n",
      "No. Observations:                         30   AIC:                             642.0\n",
      "Df Residuals:                             27   BIC:                             646.2\n",
      "Df Model:                                  2                                         \n",
      "Covariance Type:                   nonrobust                                         \n",
      "=======================================================================================================\n",
      "                                          coef    std err          t      P>|t|      [0.025      0.975]\n",
      "-------------------------------------------------------------------------------------------------------\n",
      "const                               -8926.3209   8050.645     -1.109      0.277   -2.54e+04    7592.237\n",
      "Length of flight (miles)              193.6986     29.588      6.547      0.000     132.989     254.408\n",
      "Daily flight time per plane (hours)  -346.4446   1375.687     -0.252      0.803   -3169.121    2476.231\n",
      "==============================================================================\n",
      "Omnibus:                        2.767   Durbin-Watson:                   2.182\n",
      "Prob(Omnibus):                  0.251   Jarque-Bera (JB):                1.691\n",
      "Skew:                           0.565   Prob(JB):                        0.429\n",
      "Kurtosis:                       3.279   Cond. No.                         653.\n",
      "==============================================================================\n",
      "\n",
      "Notes:\n",
      "[1] Standard Errors assume that the covariance matrix of the errors is correctly specified.\n"
     ]
    },
    {
     "name": "stderr",
     "output_type": "stream",
     "text": [
      "/Users/aliqazi/opt/anaconda3/lib/python3.9/site-packages/statsmodels/tsa/tsatools.py:142: FutureWarning: In a future version of pandas all arguments of concat except for the argument 'objs' will be keyword-only\n",
      "  x = pd.concat(x[::order], 1)\n"
     ]
    }
   ],
   "source": [
    "X = sm.add_constant(X) \n",
    "lr_model = sm.OLS(y, X).fit()\n",
    "predictions = lr_model.predict(X)\n",
    "print_model = lr_model.summary()\n",
    "print(print_model)"
   ]
  },
  {
   "cell_type": "code",
   "execution_count": 16,
   "id": "39182521",
   "metadata": {},
   "outputs": [
    {
     "name": "stdout",
     "output_type": "stream",
     "text": [
      "27319.075000000004\n"
     ]
    }
   ],
   "source": [
    "# y = -8926.321 + 193.699 * X1 + -346.445 * X2\n",
    "# predicted value = 27,319\n",
    "predicted_value = -8926.321 + 193.699 * 200 + -346.445 * 7.2\n",
    "print(predicted_value)"
   ]
  },
  {
   "cell_type": "code",
   "execution_count": 17,
   "id": "566a3f29",
   "metadata": {},
   "outputs": [
    {
     "name": "stderr",
     "output_type": "stream",
     "text": [
      "/Users/aliqazi/opt/anaconda3/lib/python3.9/site-packages/statsmodels/tsa/tsatools.py:142: FutureWarning: In a future version of pandas all arguments of concat except for the argument 'objs' will be keyword-only\n",
      "  x = pd.concat(x[::order], 1)\n"
     ]
    }
   ],
   "source": [
    "#Problem 2\n",
    "#y = c + mX1\n",
    "X = data['Population served (1000s)']\n",
    "y = data['Total assets ($100,000s)']\n",
    "X = sm.add_constant(X)"
   ]
  },
  {
   "cell_type": "code",
   "execution_count": 18,
   "id": "64604ab0",
   "metadata": {},
   "outputs": [
    {
     "name": "stdout",
     "output_type": "stream",
     "text": [
      "                               OLS Regression Results                               \n",
      "====================================================================================\n",
      "Dep. Variable:     Total assets ($100,000s)   R-squared:                       0.839\n",
      "Model:                                  OLS   Adj. R-squared:                  0.833\n",
      "Method:                       Least Squares   F-statistic:                     145.8\n",
      "Date:                      Sat, 14 Jan 2023   Prob (F-statistic):           1.28e-12\n",
      "Time:                              16:32:00   Log-Likelihood:                -195.00\n",
      "No. Observations:                        30   AIC:                             394.0\n",
      "Df Residuals:                            28   BIC:                             396.8\n",
      "Df Model:                                 1                                         \n",
      "Covariance Type:                  nonrobust                                         \n",
      "=============================================================================================\n",
      "                                coef    std err          t      P>|t|      [0.025      0.975]\n",
      "---------------------------------------------------------------------------------------------\n",
      "const                       -91.0845     39.957     -2.280      0.030    -172.932      -9.237\n",
      "Population served (1000s)     0.0219      0.002     12.076      0.000       0.018       0.026\n",
      "==============================================================================\n",
      "Omnibus:                       24.446   Durbin-Watson:                   1.499\n",
      "Prob(Omnibus):                  0.000   Jarque-Bera (JB):               45.323\n",
      "Skew:                          -1.796   Prob(JB):                     1.44e-10\n",
      "Kurtosis:                       7.833   Cond. No.                     2.90e+04\n",
      "==============================================================================\n",
      "\n",
      "Notes:\n",
      "[1] Standard Errors assume that the covariance matrix of the errors is correctly specified.\n",
      "[2] The condition number is large, 2.9e+04. This might indicate that there are\n",
      "strong multicollinearity or other numerical problems.\n"
     ]
    }
   ],
   "source": [
    "model2 = sm.OLS(y, X).fit()\n",
    "print_model2 = model2.summary()\n",
    "print(print_model2)"
   ]
  },
  {
   "cell_type": "code",
   "execution_count": 19,
   "id": "6dfe29a6",
   "metadata": {},
   "outputs": [
    {
     "name": "stdout",
     "output_type": "stream",
     "text": [
      "Predictions for total assets given 20,300,000 customers is 446508.915\n"
     ]
    }
   ],
   "source": [
    "# y = -91.085 + 0.022X\n",
    "# predicted assets is 446,508.915\n",
    "predicted_assets = -91.085 + 0.022 * 20300000\n",
    "print('Predictions for total assets given 20,300,000 customers is', \n",
    "      predicted_assets)"
   ]
  },
  {
   "cell_type": "code",
   "execution_count": null,
   "id": "21f59b02",
   "metadata": {},
   "outputs": [],
   "source": []
  }
 ],
 "metadata": {
  "kernelspec": {
   "display_name": "Python 3 (ipykernel)",
   "language": "python",
   "name": "python3"
  },
  "language_info": {
   "codemirror_mode": {
    "name": "ipython",
    "version": 3
   },
   "file_extension": ".py",
   "mimetype": "text/x-python",
   "name": "python",
   "nbconvert_exporter": "python",
   "pygments_lexer": "ipython3",
   "version": "3.9.7"
  }
 },
 "nbformat": 4,
 "nbformat_minor": 5
}

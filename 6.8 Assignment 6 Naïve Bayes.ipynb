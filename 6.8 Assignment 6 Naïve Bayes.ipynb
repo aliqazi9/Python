{
 "cells": [
  {
   "cell_type": "markdown",
   "id": "e65aefbd-e2c5-425d-b23f-f5b54553abfd",
   "metadata": {},
   "source": [
    "#### An explanation for how to turn P(E|H) to P(H|E), with E=Evidence and H=Hypothesis was provided in layman's terms.\n",
    "\n",
    "####Bayes' Theorem is a mathematical concept that helps us understand the relationship between evidence and a hypothesis. Essentially, it shows us how to use evidence to update our beliefs about a hypothesis.\n",
    "\n",
    "To understand this concept in layman's terms, let's consider a simple example. Imagine you're a detective investigating a crime and you have two suspects. You have some evidence that suggests one of the suspects is guilty, but you're not sure which one. Bayes' Theorem can help you update your beliefs about which suspect is guilty based on the evidence you have. You start with an initial belief about each suspect's guilt, then use the evidence to update those beliefs. The theorem helps you calculate the new probabilities for each suspect, based on the evidence, so that you can make a more informed decision about who is guilty.\n",
    "\n",
    "In essence, Bayes' Theorem is a way of combining our prior beliefs about a hypothesis with new evidence to make a more informed decision. It's a powerful tool that is widely used in fields like machine learning and data analysis, where the goal is to make predictions based on data. By using Bayes' Theorem, we can make more accurate predictions by taking into account both our prior beliefs and the new evidence.\n",
    "\n"
   ]
  },
  {
   "cell_type": "code",
   "execution_count": 3,
   "id": "366ba5d2-ba58-4880-ac2c-4402540b1ffb",
   "metadata": {},
   "outputs": [],
   "source": [
    "import pandas as pd\n",
    "import numpy as np\n",
    "from sklearn.feature_extraction.text import CountVectorizer, TfidfTransformer\n",
    "from sklearn.naive_bayes import MultinomialNB\n",
    "from sklearn.pipeline import make_pipeline\n",
    "from sklearn.metrics import confusion_matrix, accuracy_score\n",
    "import seaborn as sns"
   ]
  },
  {
   "cell_type": "code",
   "execution_count": 4,
   "id": "1381a5a7-de9c-4811-a981-893dd6b1e51f",
   "metadata": {},
   "outputs": [],
   "source": [
    "psy = pd.read_csv('Youtube01-Psy.csv')\n",
    "perry = pd.read_csv('Youtube02-KatyPerry.csv')\n",
    "mm = pd.read_csv('Youtube04-Eminem.csv')\n",
    "lmfao = pd.read_csv('Youtube03-LMFAO.csv')\n",
    "shakira= pd.read_csv('Youtube05-Shakira.csv')\n"
   ]
  },
  {
   "cell_type": "code",
   "execution_count": 5,
   "id": "1400bf81-2e7e-4ac1-ade0-4ace0b4ceeff",
   "metadata": {},
   "outputs": [],
   "source": [
    "df = psy.append(perry).append(mm).append(lmfao)"
   ]
  },
  {
   "cell_type": "code",
   "execution_count": 6,
   "id": "453157fa-e0e8-46f0-b816-38f29048048f",
   "metadata": {},
   "outputs": [
    {
     "data": {
      "text/plain": [
       "(1586, 5)"
      ]
     },
     "execution_count": 6,
     "metadata": {},
     "output_type": "execute_result"
    }
   ],
   "source": [
    "df.shape"
   ]
  },
  {
   "cell_type": "code",
   "execution_count": 7,
   "id": "b9747443-8f72-4fac-a554-2cc5a1080221",
   "metadata": {},
   "outputs": [],
   "source": [
    "prob=df[['CONTENT','CLASS']]\n"
   ]
  },
  {
   "cell_type": "code",
   "execution_count": 8,
   "id": "4b8d6ad0-da4d-4c70-b398-15d1db030ace",
   "metadata": {},
   "outputs": [],
   "source": [
    "model = make_pipeline(CountVectorizer(),TfidfTransformer(), MultinomialNB())"
   ]
  },
  {
   "cell_type": "code",
   "execution_count": 9,
   "id": "3ae325fd-d057-4e42-b1fa-fd39d64f18fd",
   "metadata": {},
   "outputs": [
    {
     "data": {
      "text/plain": [
       "Pipeline(steps=[('countvectorizer', CountVectorizer()),\n",
       "                ('tfidftransformer', TfidfTransformer()),\n",
       "                ('multinomialnb', MultinomialNB())])"
      ]
     },
     "execution_count": 9,
     "metadata": {},
     "output_type": "execute_result"
    }
   ],
   "source": [
    "model.fit(prob['CONTENT'],prob['CLASS'])"
   ]
  },
  {
   "cell_type": "code",
   "execution_count": 10,
   "id": "22cc22db-9c95-44d8-be04-20e542e01c80",
   "metadata": {},
   "outputs": [
    {
     "data": {
      "text/plain": [
       "array([0, 0, 0, 0, 0, 0, 0, 1, 0, 0, 0, 0, 0, 0, 0, 0, 0, 0, 0, 0, 0, 1,\n",
       "       1, 0, 0, 0, 0, 0, 0, 1, 0, 1, 0, 0, 0, 0, 1, 0, 1, 0, 0, 0, 0, 0,\n",
       "       0, 0, 0, 0, 1, 0, 0, 1, 1, 1, 0, 0, 1, 1, 0, 1, 1, 0, 1, 0, 0, 0,\n",
       "       1, 0, 1, 0, 0, 0, 0, 0, 0, 0, 0, 0, 0, 0, 0, 1, 0, 1, 0, 1, 0, 0,\n",
       "       0, 0, 0, 0, 0, 1, 0, 0, 0, 0, 0, 0, 0, 1, 0, 0, 0, 1, 0, 0, 0, 1,\n",
       "       0, 1, 0, 0, 1, 0, 1, 0, 0, 0, 0, 1, 0, 0, 0, 0, 0, 0, 1, 0, 0, 0,\n",
       "       1, 1, 0, 0, 0, 0, 0, 0, 0, 0, 0, 1, 0, 0, 0, 1, 1, 1, 1, 1, 1, 1,\n",
       "       1, 1, 1, 1, 1, 1, 1, 1, 1, 1, 1, 1, 1, 1, 1, 1, 1, 0, 1, 1, 1, 1,\n",
       "       1, 1, 1, 1, 1, 1, 1, 1, 1, 1, 1, 0, 1, 1, 1, 1, 1, 1, 1, 1, 1, 1,\n",
       "       1, 1, 1, 1, 1, 1, 1, 1, 1, 1, 1, 0, 0, 0, 0, 0, 1, 0, 0, 0, 0, 0,\n",
       "       1, 1, 0, 0, 0, 1, 0, 0, 0, 0, 1, 1, 0, 0, 0, 1, 0, 0, 0, 1, 0, 0,\n",
       "       0, 0, 0, 0, 0, 0, 1, 1, 1, 1, 1, 1, 1, 1, 1, 1, 1, 1, 1, 0, 1, 0,\n",
       "       0, 0, 1, 0, 0, 0, 0, 0, 0, 1, 0, 1, 1, 0, 0, 1, 0, 0, 0, 0, 0, 0,\n",
       "       0, 0, 1, 1, 1, 1, 1, 0, 1, 1, 0, 1, 1, 1, 1, 1, 1, 1, 1, 1, 1, 1,\n",
       "       1, 1, 1, 1, 1, 1, 1, 1, 1, 1, 1, 1, 1, 1, 1, 1, 1, 1, 1, 1, 1, 1,\n",
       "       1, 1, 1, 1, 1, 1, 1, 1, 1, 1, 1, 1, 1, 1, 1, 1, 1, 1, 0, 0, 0, 1,\n",
       "       0, 0, 0, 0, 1, 1, 1, 1, 1, 1, 0, 0, 0, 0, 0, 0, 0, 0])"
      ]
     },
     "execution_count": 10,
     "metadata": {},
     "output_type": "execute_result"
    }
   ],
   "source": [
    "preds = model.predict(shakira['CONTENT'])\n",
    "preds"
   ]
  },
  {
   "cell_type": "code",
   "execution_count": 11,
   "id": "4b8349e2-fb5b-4697-9290-d2895b875bf6",
   "metadata": {},
   "outputs": [
    {
     "data": {
      "text/plain": [
       "array([[170,  26],\n",
       "       [ 15, 159]])"
      ]
     },
     "execution_count": 11,
     "metadata": {},
     "output_type": "execute_result"
    }
   ],
   "source": [
    "cm=confusion_matrix(shakira['CLASS'], preds)\n",
    "cm"
   ]
  },
  {
   "cell_type": "code",
   "execution_count": 12,
   "id": "7b3b567f-9c4b-4a80-b20a-f97357f42a45",
   "metadata": {},
   "outputs": [
    {
     "data": {
      "text/plain": [
       "0.8891891891891892"
      ]
     },
     "execution_count": 12,
     "metadata": {},
     "output_type": "execute_result"
    }
   ],
   "source": [
    "ac=accuracy_score(shakira['CLASS'], preds)\n",
    "ac"
   ]
  },
  {
   "cell_type": "code",
   "execution_count": 13,
   "id": "7cd06316-84ed-402c-a9d6-f6b6872179de",
   "metadata": {},
   "outputs": [
    {
     "data": {
      "text/plain": [
       "<AxesSubplot:>"
      ]
     },
     "execution_count": 13,
     "metadata": {},
     "output_type": "execute_result"
    },
    {
     "data": {
      "image/png": "[encoded data removed]",
      "text/plain": [
       "<Figure size 432x288 with 1 Axes>"
      ]
     },
     "metadata": {
      "needs_background": "light"
     },
     "output_type": "display_data"
    }
   ],
   "source": [
    "sns.heatmap(cm, square=True, annot=True, cbar=False, fmt= 'd')"
   ]
  },
  {
   "cell_type": "code",
   "execution_count": null,
   "id": "e81d5881-4047-45c4-ac0a-72c980e5bb4a",
   "metadata": {},
   "outputs": [],
   "source": []
  },
  {
   "cell_type": "code",
   "execution_count": null,
   "id": "d3958e4b",
   "metadata": {},
   "outputs": [],
   "source": []
  },
  {
   "cell_type": "code",
   "execution_count": null,
   "id": "7b8909e1",
   "metadata": {},
   "outputs": [],
   "source": []
  }
 ],
 "metadata": {
  "kernelspec": {
   "display_name": "Python 3 (ipykernel)",
   "language": "python",
   "name": "python3"
  },
  "language_info": {
   "codemirror_mode": {
    "name": "ipython",
    "version": 3
   },
   "file_extension": ".py",
   "mimetype": "text/x-python",
   "name": "python",
   "nbconvert_exporter": "python",
   "pygments_lexer": "ipython3",
   "version": "3.9.7"
  }
 },
 "nbformat": 4,
 "nbformat_minor": 5
}

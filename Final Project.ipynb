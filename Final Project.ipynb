{
 "cells": [
  {
   "cell_type": "code",
   "execution_count": null,
   "id": "41bc9dec",
   "metadata": {},
   "outputs": [],
   "source": [
    "###The mean squared error measures the average squared difference between the predicted ratings and the actual ratings in the testing set, while the coefficient of determination (R^2) measures the proportion of the variance in the ratings that is explained by the model. In this case, the mean squared error is 2.32 and the R^2 score is -0.48, which suggests that the model is not performing well on the testing data."
   ]
  },
  {
   "cell_type": "code",
   "execution_count": null,
   "id": "483189e7",
   "metadata": {},
   "outputs": [],
   "source": []
  }
 ],
 "metadata": {
  "kernelspec": {
   "display_name": "Python 3 (ipykernel)",
   "language": "python",
   "name": "python3"
  },
  "language_info": {
   "codemirror_mode": {
    "name": "ipython",
    "version": 3
   },
   "file_extension": ".py",
   "mimetype": "text/x-python",
   "name": "python",
   "nbconvert_exporter": "python",
   "pygments_lexer": "ipython3",
   "version": "3.9.7"
  }
 },
 "nbformat": 4,
 "nbformat_minor": 5
}

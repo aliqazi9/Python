{
 "cells": [
  {
   "cell_type": "code",
   "execution_count": 1,
   "id": "32ff32de-5650-4b14-9bbc-ed9b2dcd2e78",
   "metadata": {},
   "outputs": [],
   "source": [
    "import pandas as pd\n",
    "from sklearn.model_selection import train_test_split\n",
    "from sklearn.metrics import accuracy_score, confusion_matrix, classification_report\n",
    "from sklearn.svm import SVC"
   ]
  },
  {
   "cell_type": "code",
   "execution_count": 2,
   "id": "9fa85f89-bc45-4547-b10f-b15fca2ecbca",
   "metadata": {
    "scrolled": true
   },
   "outputs": [
    {
     "data": {
      "text/html": [
       "<div>\n",
       "<style scoped>\n",
       "    .dataframe tbody tr th:only-of-type {\n",
       "        vertical-align: middle;\n",
       "    }\n",
       "\n",
       "    .dataframe tbody tr th {\n",
       "        vertical-align: top;\n",
       "    }\n",
       "\n",
       "    .dataframe thead th {\n",
       "        text-align: right;\n",
       "    }\n",
       "</style>\n",
       "<table border=\"1\" class=\"dataframe\">\n",
       "  <thead>\n",
       "    <tr style=\"text-align: right;\">\n",
       "      <th></th>\n",
       "      <th>battle</th>\n",
       "      <th>year</th>\n",
       "      <th>portuguese_ships</th>\n",
       "      <th>dutch_ships</th>\n",
       "      <th>english_ships</th>\n",
       "      <th>ratio_of_portuguese_to_other_ships</th>\n",
       "      <th>spanish_involvement_1yes_0no</th>\n",
       "      <th>portuguese_outcome_-1defeat_0draw_1victory</th>\n",
       "    </tr>\n",
       "  </thead>\n",
       "  <tbody>\n",
       "    <tr>\n",
       "      <th>0</th>\n",
       "      <td>Bantam</td>\n",
       "      <td>1601</td>\n",
       "      <td>6</td>\n",
       "      <td>3</td>\n",
       "      <td>0</td>\n",
       "      <td>2.000</td>\n",
       "      <td>0</td>\n",
       "      <td>0</td>\n",
       "    </tr>\n",
       "    <tr>\n",
       "      <th>1</th>\n",
       "      <td>Malacca Strait</td>\n",
       "      <td>1606</td>\n",
       "      <td>14</td>\n",
       "      <td>11</td>\n",
       "      <td>0</td>\n",
       "      <td>1.273</td>\n",
       "      <td>0</td>\n",
       "      <td>0</td>\n",
       "    </tr>\n",
       "    <tr>\n",
       "      <th>2</th>\n",
       "      <td>Ilha das Naus</td>\n",
       "      <td>1606</td>\n",
       "      <td>6</td>\n",
       "      <td>9</td>\n",
       "      <td>0</td>\n",
       "      <td>0.667</td>\n",
       "      <td>0</td>\n",
       "      <td>-1</td>\n",
       "    </tr>\n",
       "    <tr>\n",
       "      <th>3</th>\n",
       "      <td>Pulo Butum</td>\n",
       "      <td>1606</td>\n",
       "      <td>7</td>\n",
       "      <td>9</td>\n",
       "      <td>0</td>\n",
       "      <td>0.778</td>\n",
       "      <td>0</td>\n",
       "      <td>1</td>\n",
       "    </tr>\n",
       "    <tr>\n",
       "      <th>4</th>\n",
       "      <td>Surrat</td>\n",
       "      <td>1615</td>\n",
       "      <td>6</td>\n",
       "      <td>0</td>\n",
       "      <td>4</td>\n",
       "      <td>1.500</td>\n",
       "      <td>0</td>\n",
       "      <td>0</td>\n",
       "    </tr>\n",
       "  </tbody>\n",
       "</table>\n",
       "</div>"
      ],
      "text/plain": [
       "           battle  year  portuguese_ships  dutch_ships  english_ships  \\\n",
       "0          Bantam  1601                 6            3              0   \n",
       "1  Malacca Strait  1606                14           11              0   \n",
       "2   Ilha das Naus  1606                 6            9              0   \n",
       "3      Pulo Butum  1606                 7            9              0   \n",
       "4          Surrat  1615                 6            0              4   \n",
       "\n",
       "   ratio_of_portuguese_to_other_ships  spanish_involvement_1yes_0no  \\\n",
       "0                               2.000                             0   \n",
       "1                               1.273                             0   \n",
       "2                               0.667                             0   \n",
       "3                               0.778                             0   \n",
       "4                               1.500                             0   \n",
       "\n",
       "   portuguese_outcome_-1defeat_0draw_1victory  \n",
       "0                                           0  \n",
       "1                                           0  \n",
       "2                                          -1  \n",
       "3                                           1  \n",
       "4                                           0  "
      ]
     },
     "execution_count": 2,
     "metadata": {},
     "output_type": "execute_result"
    }
   ],
   "source": [
    "data = pd.read_csv('portuguese_armada_dataset.csv')\n",
    "data = data.dropna()\n",
    "data.head()"
   ]
  },
  {
   "cell_type": "code",
   "execution_count": 3,
   "id": "36f4cad6-942a-4d56-86ed-68a77fbb8112",
   "metadata": {},
   "outputs": [],
   "source": [
    "X = data[['spanish_involvement_1yes_0no', 'english_ships', 'dutch_ships', 'portuguese_ships']]\n",
    "y = data['portuguese_outcome_-1defeat_0draw_1victory']"
   ]
  },
  {
   "cell_type": "code",
   "execution_count": 4,
   "id": "00aa95f7-7552-44c1-842a-1be6d9f1e6c0",
   "metadata": {},
   "outputs": [],
   "source": [
    "X_train,X_test, y_train, y_test = train_test_split(X,y,test_size=0.3)"
   ]
  },
  {
   "cell_type": "code",
   "execution_count": 5,
   "id": "ea2c7ab7-baab-4d3e-afba-15519957466f",
   "metadata": {},
   "outputs": [],
   "source": [
    "model = SVC(kernel = 'poly',degree = 3)"
   ]
  },
  {
   "cell_type": "code",
   "execution_count": 6,
   "id": "20c898b2-66bb-4ab8-b496-a6e33dd7ad37",
   "metadata": {},
   "outputs": [],
   "source": [
    "model.fit(X_train, y_train)\n",
    "\n",
    "predictions = model.predict(X_test)"
   ]
  },
  {
   "cell_type": "code",
   "execution_count": 7,
   "id": "30499391-381d-4294-b4ce-4e5d8758082b",
   "metadata": {},
   "outputs": [
    {
     "name": "stdout",
     "output_type": "stream",
     "text": [
      "0.4444444444444444\n"
     ]
    }
   ],
   "source": [
    "print(accuracy_score(y_test,predictions))\n"
   ]
  },
  {
   "cell_type": "code",
   "execution_count": 8,
   "id": "1b1eb642-4a96-489b-868b-650853ae001d",
   "metadata": {},
   "outputs": [
    {
     "name": "stdout",
     "output_type": "stream",
     "text": [
      "[[0 4 0]\n",
      " [0 4 0]\n",
      " [0 1 0]]\n"
     ]
    }
   ],
   "source": [
    "print(confusion_matrix(y_test,predictions))\n"
   ]
  },
  {
   "cell_type": "code",
   "execution_count": 9,
   "id": "87e3f133-2f28-44a3-bf21-5313c9a9c887",
   "metadata": {},
   "outputs": [
    {
     "name": "stdout",
     "output_type": "stream",
     "text": [
      "              precision    recall  f1-score   support\n",
      "\n",
      "          -1       0.00      0.00      0.00         4\n",
      "           0       0.44      1.00      0.62         4\n",
      "           1       0.00      0.00      0.00         1\n",
      "\n",
      "    accuracy                           0.44         9\n",
      "   macro avg       0.15      0.33      0.21         9\n",
      "weighted avg       0.20      0.44      0.27         9\n",
      "\n"
     ]
    },
    {
     "name": "stderr",
     "output_type": "stream",
     "text": [
      "/Users/aliqazi/opt/anaconda3/lib/python3.9/site-packages/sklearn/metrics/_classification.py:1248: UndefinedMetricWarning: Precision and F-score are ill-defined and being set to 0.0 in labels with no predicted samples. Use `zero_division` parameter to control this behavior.\n",
      "  _warn_prf(average, modifier, msg_start, len(result))\n",
      "/Users/aliqazi/opt/anaconda3/lib/python3.9/site-packages/sklearn/metrics/_classification.py:1248: UndefinedMetricWarning: Precision and F-score are ill-defined and being set to 0.0 in labels with no predicted samples. Use `zero_division` parameter to control this behavior.\n",
      "  _warn_prf(average, modifier, msg_start, len(result))\n",
      "/Users/aliqazi/opt/anaconda3/lib/python3.9/site-packages/sklearn/metrics/_classification.py:1248: UndefinedMetricWarning: Precision and F-score are ill-defined and being set to 0.0 in labels with no predicted samples. Use `zero_division` parameter to control this behavior.\n",
      "  _warn_prf(average, modifier, msg_start, len(result))\n"
     ]
    }
   ],
   "source": [
    "print(classification_report(y_test,predictions))"
   ]
  },
  {
   "cell_type": "code",
   "execution_count": 10,
   "id": "ca28df3b-33b6-41f2-9ea8-b809a919e0a5",
   "metadata": {},
   "outputs": [],
   "source": [
    "from sklearn.mixture import GaussianMixture\n",
    "from matplotlib import pyplot as plt"
   ]
  },
  {
   "cell_type": "code",
   "execution_count": 11,
   "id": "ac1dd226-8e07-455f-b02b-3227e4ea6f27",
   "metadata": {},
   "outputs": [],
   "source": [
    "pop = data.iloc[:,1:10].drop('year', axis = 1)\n",
    "X = data[data.columns.difference(['battle'])]"
   ]
  },
  {
   "cell_type": "code",
   "execution_count": 12,
   "id": "3d4dd3ed-fd93-4108-8532-193b01026421",
   "metadata": {},
   "outputs": [
    {
     "data": {
      "text/plain": [
       "GaussianMixture(init_params='random', n_components=7)"
      ]
     },
     "execution_count": 12,
     "metadata": {},
     "output_type": "execute_result"
    }
   ],
   "source": [
    "model = GaussianMixture(n_components = 7, init_params='random', max_iter=100)\n",
    "model.fit(X,pop)"
   ]
  },
  {
   "cell_type": "code",
   "execution_count": 13,
   "id": "e2b5de75-2758-4b02-8f33-4fc9cf947ad8",
   "metadata": {},
   "outputs": [
    {
     "data": {
      "text/plain": [
       "array([3, 2, 3, 2, 2, 3, 0, 4, 3, 6, 3, 3, 3, 3, 3, 6, 5, 1, 5, 0, 1, 5,\n",
       "       6, 0, 1, 3, 3, 3])"
      ]
     },
     "execution_count": 13,
     "metadata": {},
     "output_type": "execute_result"
    }
   ],
   "source": [
    "yhat = model.predict(X)\n",
    "yhat"
   ]
  },
  {
   "cell_type": "code",
   "execution_count": 14,
   "id": "c165cd7f-59a3-4fa3-9e6a-93e208626b68",
   "metadata": {},
   "outputs": [
    {
     "name": "stdout",
     "output_type": "stream",
     "text": [
      "AIC: 54.065579934405434\n",
      "BIC: 388.44891198838155\n"
     ]
    }
   ],
   "source": [
    "print(\"AIC:\",model.aic(X))\n",
    "print(\"BIC:\",model.bic(X))"
   ]
  },
  {
   "cell_type": "code",
   "execution_count": 15,
   "id": "35bb3336-0402-429d-8767-79a781e3ee9e",
   "metadata": {},
   "outputs": [
    {
     "name": "stdout",
     "output_type": "stream",
     "text": [
      "0 epoch: 2 clusters\n",
      "AIC: 475.5000851857989\n",
      "BIC: 548.7713332454351\n",
      "1 epoch: 2 clusters\n",
      "AIC: 390.58796435014904\n",
      "BIC: 463.85921240978524\n",
      "2 epoch: 2 clusters\n",
      "AIC: 390.5879643501489\n",
      "BIC: 463.85921240978513\n",
      "3 epoch: 2 clusters\n",
      "AIC: 430.532332578674\n",
      "BIC: 503.8035806383102\n",
      "4 epoch: 2 clusters\n",
      "AIC: 556.6898766391082\n",
      "BIC: 629.9611246987445\n",
      "5 epoch: 2 clusters\n",
      "AIC: 370.81185861641654\n",
      "BIC: 444.08310667605275\n",
      "0 epoch: 3 clusters\n",
      "AIC: 303.2957539411633\n",
      "BIC: 413.8687282857052\n",
      "1 epoch: 3 clusters\n",
      "AIC: 457.0080779335616\n",
      "BIC: 567.5810522781035\n",
      "2 epoch: 3 clusters\n",
      "AIC: 59.82364628881767\n",
      "BIC: 170.3966206333596\n",
      "3 epoch: 3 clusters\n",
      "AIC: 315.42147740020783\n",
      "BIC: 425.99445174474977\n",
      "4 epoch: 3 clusters\n",
      "AIC: 92.88316712650908\n",
      "BIC: 203.456141471051\n",
      "5 epoch: 3 clusters\n",
      "AIC: 299.74151479163675\n",
      "BIC: 410.3144891361786\n",
      "0 epoch: 4 clusters\n",
      "AIC: 138.6470864996449\n",
      "BIC: 286.5217871290925\n",
      "1 epoch: 4 clusters\n",
      "AIC: 199.32075552086445\n",
      "BIC: 347.19545615031205\n",
      "2 epoch: 4 clusters\n",
      "AIC: 241.02103102066962\n",
      "BIC: 388.8957316501172\n",
      "3 epoch: 4 clusters\n",
      "AIC: 290.93860993206727\n",
      "BIC: 438.81331056151487\n",
      "4 epoch: 4 clusters\n",
      "AIC: 248.60605807175352\n",
      "BIC: 396.4807587012011\n",
      "5 epoch: 4 clusters\n",
      "AIC: 136.95140671346445\n",
      "BIC: 284.82610734291205\n"
     ]
    }
   ],
   "source": [
    "aic_score = {} \n",
    "bic_score = {}\n",
    "for n in range(2,5):\n",
    "    for i in range(6):\n",
    "        #gmm = GaussianMixture(n_components=i, random_state=0).fit(pop)\n",
    "        model = GaussianMixture(n_components = n, init_params='random', max_iter=100).fit(X)\n",
    "        aic_score[i] = model.aic(X)\n",
    "        bic_score[i] = model.bic(X)\n",
    "        model.fit(pop)\n",
    "        \n",
    "        yhat = model.predict(pop)\n",
    "        print(i, \"epoch:\", n, \"clusters\")\n",
    "        print(\"AIC:\",model.aic(pop))\n",
    "        print(\"BIC:\",model.bic(pop))"
   ]
  },
  {
   "cell_type": "code",
   "execution_count": 16,
   "id": "3b28c015-9600-4101-af2e-4ebc23104d2b",
   "metadata": {},
   "outputs": [
    {
     "data": {
      "image/png": "[encoded data removed]",
      "text/plain": [
       "<Figure size 1440x360 with 1 Axes>"
      ]
     },
     "metadata": {
      "needs_background": "light"
     },
     "output_type": "display_data"
    }
   ],
   "source": [
    "plt.figure(figsize=(20,5))\n",
    "plt.plot(list(aic_score.keys()),list(aic_score.values()), label='AIC')\n",
    "plt.plot(list(bic_score.keys()),list(bic_score.values()), label='BIC')\n",
    "plt.legend(loc='best')\n",
    "plt.title('AIC and BIC from GMM')\n",
    "plt.xlabel('Number of Clusters')\n",
    "plt.ylabel('AIC and BIC values')\n",
    "plt.show()"
   ]
  },
  {
   "cell_type": "code",
   "execution_count": null,
   "id": "38ba290f-c08e-4c43-9489-12e95b4aac5a",
   "metadata": {},
   "outputs": [],
   "source": []
  }
 ],
 "metadata": {
  "kernelspec": {
   "display_name": "Python 3 (ipykernel)",
   "language": "python",
   "name": "python3"
  },
  "language_info": {
   "codemirror_mode": {
    "name": "ipython",
    "version": 3
   },
   "file_extension": ".py",
   "mimetype": "text/x-python",
   "name": "python",
   "nbconvert_exporter": "python",
   "pygments_lexer": "ipython3",
   "version": "3.9.7"
  }
 },
 "nbformat": 4,
 "nbformat_minor": 5
}

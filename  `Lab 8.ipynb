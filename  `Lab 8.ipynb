{
 "cells": [
  {
   "cell_type": "code",
   "execution_count": 3,
   "id": "6c1cbae1",
   "metadata": {},
   "outputs": [],
   "source": [
    "import pandas as pd\n",
    "import numpy as np\n",
    "from sklearn.model_selection import train_test_split\n",
    "from sklearn.preprocessing import StandardScaler\n",
    "from sklearn.svm import SVC\n",
    "from sklearn.ensemble import RandomForestClassifier\n",
    "from sklearn.neighbors import KNeighborsClassifier\n",
    "from sklearn.metrics import accuracy_score, confusion_matrix\n"
   ]
  },
  {
   "cell_type": "code",
   "execution_count": 4,
   "id": "e40eeb6a",
   "metadata": {},
   "outputs": [
    {
     "data": {
      "text/html": [
       "<div>\n",
       "<style scoped>\n",
       "    .dataframe tbody tr th:only-of-type {\n",
       "        vertical-align: middle;\n",
       "    }\n",
       "\n",
       "    .dataframe tbody tr th {\n",
       "        vertical-align: top;\n",
       "    }\n",
       "\n",
       "    .dataframe thead th {\n",
       "        text-align: right;\n",
       "    }\n",
       "</style>\n",
       "<table border=\"1\" class=\"dataframe\">\n",
       "  <thead>\n",
       "    <tr style=\"text-align: right;\">\n",
       "      <th></th>\n",
       "      <th>battle</th>\n",
       "      <th>year</th>\n",
       "      <th>portuguese_ships</th>\n",
       "      <th>dutch_ships</th>\n",
       "      <th>english_ships</th>\n",
       "      <th>ratio_of_portuguese_to_other_ships</th>\n",
       "      <th>spanish_involvement_1yes_0no</th>\n",
       "      <th>portuguese_outcome_-1defeat_0draw_1victory</th>\n",
       "    </tr>\n",
       "  </thead>\n",
       "  <tbody>\n",
       "    <tr>\n",
       "      <th>0</th>\n",
       "      <td>Bantam</td>\n",
       "      <td>1601</td>\n",
       "      <td>6</td>\n",
       "      <td>3</td>\n",
       "      <td>0</td>\n",
       "      <td>2.000</td>\n",
       "      <td>0</td>\n",
       "      <td>0</td>\n",
       "    </tr>\n",
       "    <tr>\n",
       "      <th>1</th>\n",
       "      <td>Malacca Strait</td>\n",
       "      <td>1606</td>\n",
       "      <td>14</td>\n",
       "      <td>11</td>\n",
       "      <td>0</td>\n",
       "      <td>1.273</td>\n",
       "      <td>0</td>\n",
       "      <td>0</td>\n",
       "    </tr>\n",
       "    <tr>\n",
       "      <th>2</th>\n",
       "      <td>Ilha das Naus</td>\n",
       "      <td>1606</td>\n",
       "      <td>6</td>\n",
       "      <td>9</td>\n",
       "      <td>0</td>\n",
       "      <td>0.667</td>\n",
       "      <td>0</td>\n",
       "      <td>-1</td>\n",
       "    </tr>\n",
       "    <tr>\n",
       "      <th>3</th>\n",
       "      <td>Pulo Butum</td>\n",
       "      <td>1606</td>\n",
       "      <td>7</td>\n",
       "      <td>9</td>\n",
       "      <td>0</td>\n",
       "      <td>0.778</td>\n",
       "      <td>0</td>\n",
       "      <td>1</td>\n",
       "    </tr>\n",
       "    <tr>\n",
       "      <th>4</th>\n",
       "      <td>Surrat</td>\n",
       "      <td>1615</td>\n",
       "      <td>6</td>\n",
       "      <td>0</td>\n",
       "      <td>4</td>\n",
       "      <td>1.500</td>\n",
       "      <td>0</td>\n",
       "      <td>0</td>\n",
       "    </tr>\n",
       "  </tbody>\n",
       "</table>\n",
       "</div>"
      ],
      "text/plain": [
       "           battle  year  portuguese_ships  dutch_ships  english_ships  \\\n",
       "0          Bantam  1601                 6            3              0   \n",
       "1  Malacca Strait  1606                14           11              0   \n",
       "2   Ilha das Naus  1606                 6            9              0   \n",
       "3      Pulo Butum  1606                 7            9              0   \n",
       "4          Surrat  1615                 6            0              4   \n",
       "\n",
       "   ratio_of_portuguese_to_other_ships  spanish_involvement_1yes_0no  \\\n",
       "0                               2.000                             0   \n",
       "1                               1.273                             0   \n",
       "2                               0.667                             0   \n",
       "3                               0.778                             0   \n",
       "4                               1.500                             0   \n",
       "\n",
       "   portuguese_outcome_-1defeat_0draw_1victory  \n",
       "0                                           0  \n",
       "1                                           0  \n",
       "2                                          -1  \n",
       "3                                           1  \n",
       "4                                           0  "
      ]
     },
     "execution_count": 4,
     "metadata": {},
     "output_type": "execute_result"
    }
   ],
   "source": [
    "data = pd.read_csv('portuguese_armada_dataset.csv')\n",
    "data = data.dropna()\n",
    "data.head()"
   ]
  },
  {
   "cell_type": "code",
   "execution_count": 5,
   "id": "03fd6854",
   "metadata": {},
   "outputs": [],
   "source": [
    "# Split data into training and testing sets\n",
    "X_train, X_test, y_train, y_test = train_test_split(data.iloc[:, 2:-1], data.iloc[:, -1], test_size=0.3, random_state=42)\n",
    "\n",
    "# Scale the data\n",
    "scaler = StandardScaler()\n",
    "X_train = scaler.fit_transform(X_train)\n",
    "X_test = scaler.transform(X_test)\n",
    "\n",
    "# Separate target variable from features\n",
    "y_train = np.array(y_train)\n",
    "y_test = np.array(y_test)"
   ]
  },
  {
   "cell_type": "code",
   "execution_count": 6,
   "id": "77e94c37",
   "metadata": {},
   "outputs": [
    {
     "name": "stdout",
     "output_type": "stream",
     "text": [
      "SVM Classifier Accuracy:  0.3333333333333333\n",
      "SVM Classifier Confusion Matrix: \n",
      " [[0 2 0]\n",
      " [2 3 0]\n",
      " [0 2 0]]\n"
     ]
    }
   ],
   "source": [
    "# Train SVM Classifier\n",
    "svm = SVC(kernel='rbf', random_state=42)\n",
    "svm.fit(X_train, y_train)\n",
    "\n",
    "# Predict on test set and evaluate performance\n",
    "y_pred_svm = svm.predict(X_test)\n",
    "acc_svm = accuracy_score(y_test, y_pred_svm)\n",
    "cm_svm = confusion_matrix(y_test, y_pred_svm)\n",
    "\n",
    "print(\"SVM Classifier Accuracy: \", acc_svm)\n",
    "print(\"SVM Classifier Confusion Matrix: \\n\", cm_svm)"
   ]
  },
  {
   "cell_type": "code",
   "execution_count": 7,
   "id": "0746c4b3",
   "metadata": {},
   "outputs": [
    {
     "name": "stdout",
     "output_type": "stream",
     "text": [
      "Random Forest Classifier Accuracy:  0.4444444444444444\n",
      "Random Forest Classifier Confusion Matrix: \n",
      " [[1 1 0]\n",
      " [1 2 2]\n",
      " [0 1 1]]\n"
     ]
    }
   ],
   "source": [
    "# Train Random Forest Classifier\n",
    "rf = RandomForestClassifier(n_estimators=100, random_state=42)\n",
    "rf.fit(X_train, y_train)\n",
    "\n",
    "# Predict on test set and evaluate performance\n",
    "y_pred_rf = rf.predict(X_test)\n",
    "acc_rf = accuracy_score(y_test, y_pred_rf)\n",
    "cm_rf = confusion_matrix(y_test, y_pred_rf)\n",
    "\n",
    "print(\"Random Forest Classifier Accuracy: \", acc_rf)\n",
    "print(\"Random Forest Classifier Confusion Matrix: \\n\", cm_rf)"
   ]
  },
  {
   "cell_type": "code",
   "execution_count": 8,
   "id": "0239da43",
   "metadata": {},
   "outputs": [
    {
     "name": "stdout",
     "output_type": "stream",
     "text": [
      "KNN Classifier Accuracy:  0.5555555555555556\n",
      "KNN Classifier Confusion Matrix: \n",
      " [[1 1 0]\n",
      " [1 4 0]\n",
      " [1 1 0]]\n"
     ]
    }
   ],
   "source": [
    "# Train KNN Classifier\n",
    "knn = KNeighborsClassifier(n_neighbors=5)\n",
    "knn.fit(X_train, y_train)\n",
    "\n",
    "# Predict on test set and evaluate performance\n",
    "y_pred_knn = knn.predict(X_test)\n",
    "acc_knn = accuracy_score(y_test, y_pred_knn)\n",
    "cm_knn = confusion_matrix(y_test, y_pred_knn)\n",
    "\n",
    "print(\"KNN Classifier Accuracy: \", acc_knn)\n",
    "print(\"KNN Classifier Confusion Matrix: \\n\", cm_knn)"
   ]
  },
  {
   "cell_type": "code",
   "execution_count": 9,
   "id": "5a54a279",
   "metadata": {},
   "outputs": [
    {
     "name": "stdout",
     "output_type": "stream",
     "text": [
      "SVM Classifier Accuracy:  0.3333333333333333\n",
      "Random Forest Classifier Accuracy:  0.4444444444444444\n",
      "KNN Classifier Accuracy:  0.5555555555555556\n",
      "\n",
      "SVM Classifier Confusion Matrix: \n",
      " [[0 2 0]\n",
      " [2 3 0]\n",
      " [0 2 0]]\n",
      "Random Forest Classifier Confusion Matrix: \n",
      " [[1 1 0]\n",
      " [1 2 2]\n",
      " [0 1 1]]\n",
      "KNN Classifier Confusion Matrix: \n",
      " [[1 1 0]\n",
      " [1 4 0]\n",
      " [1 1 0]]\n"
     ]
    }
   ],
   "source": [
    "print(\"SVM Classifier Accuracy: \", acc_svm)\n",
    "print(\"Random Forest Classifier Accuracy: \", acc_rf)\n",
    "print(\"KNN Classifier Accuracy: \", acc_knn)\n",
    "\n",
    "print(\"\\nSVM Classifier Confusion Matrix: \\n\", cm_svm)\n",
    "print(\"Random Forest Classifier Confusion Matrix: \\n\", cm_rf)\n",
    "print(\"KNN Classifier Confusion Matrix: \\n\", cm_knn)"
   ]
  },
  {
   "cell_type": "code",
   "execution_count": null,
   "id": "04e3da7b",
   "metadata": {},
   "outputs": [],
   "source": []
  }
 ],
 "metadata": {
  "kernelspec": {
   "display_name": "Python 3 (ipykernel)",
   "language": "python",
   "name": "python3"
  },
  "language_info": {
   "codemirror_mode": {
    "name": "ipython",
    "version": 3
   },
   "file_extension": ".py",
   "mimetype": "text/x-python",
   "name": "python",
   "nbconvert_exporter": "python",
   "pygments_lexer": "ipython3",
   "version": "3.9.7"
  }
 },
 "nbformat": 4,
 "nbformat_minor": 5
}

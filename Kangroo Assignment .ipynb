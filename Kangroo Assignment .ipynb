{
 "cells": [
  {
   "cell_type": "code",
   "execution_count": 38,
   "id": "d5e60e5b",
   "metadata": {},
   "outputs": [],
   "source": [
    "#data manipuplation \n",
    "import numpy as np\n",
    "import pandas as pd\n",
    "\n",
    "#data viz \n",
    "import matplotlib.pyplot as plt \n",
    "import seaborn as sns \n",
    "\n",
    "%matplotlib inline\n",
    "\n",
    "import sklearn.linear_model as linear_model\n",
    "#imported to make linear model \n",
    "\n",
    "import statsmodels.api as sm\n",
    "#need this for stats models \n",
    "\n",
    "\n",
    "from sklearn import preprocessing\n",
    "\n"
   ]
  },
  {
   "cell_type": "code",
   "execution_count": 50,
   "id": "232096fd",
   "metadata": {},
   "outputs": [],
   "source": [
    "df = pd.read_csv(\"kangaroo.csv\", index_col=None)"
   ]
  },
  {
   "cell_type": "code",
   "execution_count": 51,
   "id": "808d7945",
   "metadata": {},
   "outputs": [
    {
     "name": "stdout",
     "output_type": "stream",
     "text": [
      "                            OLS Regression Results                            \n",
      "==============================================================================\n",
      "Dep. Variable:                      Y   R-squared:                       0.777\n",
      "Model:                            OLS   Adj. R-squared:                  0.772\n",
      "Method:                 Least Squares   F-statistic:                     149.7\n",
      "Date:                Sun, 15 Jan 2023   Prob (F-statistic):           1.34e-15\n",
      "Time:                        17:53:25   Log-Likelihood:                -182.98\n",
      "No. Observations:                  45   AIC:                             370.0\n",
      "Df Residuals:                      43   BIC:                             373.6\n",
      "Df Model:                           1                                         \n",
      "Covariance Type:            nonrobust                                         \n",
      "==============================================================================\n",
      "                 coef    std err          t      P>|t|      [0.025      0.975]\n",
      "------------------------------------------------------------------------------\n",
      "const         46.4508     16.300      2.850      0.007      13.579      79.322\n",
      "X              0.2876      0.024     12.236      0.000       0.240       0.335\n",
      "==============================================================================\n",
      "Omnibus:                        0.629   Durbin-Watson:                   1.998\n",
      "Prob(Omnibus):                  0.730   Jarque-Bera (JB):                0.745\n",
      "Skew:                          -0.228   Prob(JB):                        0.689\n",
      "Kurtosis:                       2.564   Cond. No.                     5.25e+03\n",
      "==============================================================================\n",
      "\n",
      "Notes:\n",
      "[1] Standard Errors assume that the covariance matrix of the errors is correctly specified.\n",
      "[2] The condition number is large, 5.25e+03. This might indicate that there are\n",
      "strong multicollinearity or other numerical problems.\n",
      "const    46.450814\n",
      "X         0.287612\n",
      "dtype: float64\n"
     ]
    },
    {
     "name": "stderr",
     "output_type": "stream",
     "text": [
      "/Users/aliqazi/opt/anaconda3/lib/python3.9/site-packages/statsmodels/tsa/tsatools.py:142: FutureWarning: In a future version of pandas all arguments of concat except for the argument 'objs' will be keyword-only\n",
      "  x = pd.concat(x[::order], 1)\n"
     ]
    },
    {
     "data": {
      "image/png": "[encoded data removed]",
      "text/plain": [
       "<Figure size 432x288 with 1 Axes>"
      ]
     },
     "metadata": {
      "needs_background": "light"
     },
     "output_type": "display_data"
    },
    {
     "name": "stdout",
     "output_type": "stream",
     "text": [
      "0.28761236824148223 46.450813626360706\n"
     ]
    }
   ],
   "source": [
    "y = df2.iloc[:,1]\n",
    "X = df2.iloc[:,0]\n",
    "X = sm.add_constant(X)\n",
    "lr_model = sm.OLS(y, X).fit()\n",
    "print(lr_model.summary())\n",
    "print(lr_model.params)\n",
    "X = X.values\n",
    "Y_pred = np.dot(X, lr_model.params)\n",
    "plt.figure()\n",
    "plt.scatter(df2.iloc[:,1], df2.iloc[:,0])\n",
    "plt.xlabel('Length')\n",
    "plt.ylabel('Width')\n",
    "m = lr_model.params[1]\n",
    "c = lr_model.params[0]\n",
    "Y_pred = m*X + c\n",
    "plt.plot(X, Y_pred)\n",
    "plt.show()\n",
    "print (m, c)"
   ]
  },
  {
   "cell_type": "code",
   "execution_count": null,
   "id": "d263524d",
   "metadata": {},
   "outputs": [],
   "source": []
  }
 ],
 "metadata": {
  "kernelspec": {
   "display_name": "Python 3 (ipykernel)",
   "language": "python",
   "name": "python3"
  },
  "language_info": {
   "codemirror_mode": {
    "name": "ipython",
    "version": 3
   },
   "file_extension": ".py",
   "mimetype": "text/x-python",
   "name": "python",
   "nbconvert_exporter": "python",
   "pygments_lexer": "ipython3",
   "version": "3.9.7"
  }
 },
 "nbformat": 4,
 "nbformat_minor": 5
}
